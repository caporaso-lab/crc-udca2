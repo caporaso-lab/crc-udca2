{
 "cells": [
  {
   "cell_type": "code",
   "execution_count": 1,
   "metadata": {
    "collapsed": true
   },
   "outputs": [],
   "source": [
    "import qiime2\n",
    "import skbio\n",
    "from qiime2.plugins import diversity\n",
    "import pandas as pd"
   ]
  },
  {
   "cell_type": "markdown",
   "metadata": {},
   "source": [
    "This cell is markdown so that it can't be run again by accident, since that would overwrite the Artifacts that we're using in the paper (and the PCoA is non-deterministic). \n",
    "\n",
    "```\n",
    "md = qiime2.Metadata.load('../sample-metadata-temp.tsv')\n",
    "\n",
    "pc1s = []\n",
    "\n",
    "metrics = ['unweighted_unifrac', 'weighted_unifrac', 'bray_curtis', 'jaccard']\n",
    "for metric in metrics:\n",
    "    dm = qiime2.Artifact.load('../100_otus/cm900/%s_distance_matrix.qza' % metric)\n",
    "    dm = qiime2.plugins.diversity.actions.filter_distance_matrix(dm, md, where=\"IncludedIn2017Analysis='Yes'\").filtered_distance_matrix\n",
    "    dm.save('%s-dm-802-samples.qza' % metric)\n",
    "    pc = qiime2.plugins.diversity.actions.pcoa(dm).pcoa\n",
    "    pc.save('%s-pc-802-samples.qza' % metric)\n",
    "    pc1s.append(pc.view(skbio.stats.ordination.OrdinationResults).samples[0])                                                                 \n",
    "```           "
   ]
  },
  {
   "cell_type": "code",
   "execution_count": 15,
   "metadata": {
    "collapsed": true
   },
   "outputs": [],
   "source": [
    "faith = qiime2.Artifact.load('../100_otus/cm900/faith_pd_vector.qza').view(pd.Series)\n",
    "obs_otus = qiime2.Artifact.load('../100_otus/cm900/observed_otus_vector.qza').view(pd.Series)\n",
    "df = pd.DataFrame(data=pc1s + [faith, obs_otus], index=['OTU100-%s-PC1' % m for m in metrics + ['faith_pd', 'observed_otus']]).T.dropna()\n",
    "df.to_csv('diversity-values.tsv', sep='\\t')"
   ]
  },
  {
   "cell_type": "code",
   "execution_count": 16,
   "metadata": {},
   "outputs": [
    {
     "data": {
      "text/plain": [
       "(802, 6)"
      ]
     },
     "execution_count": 16,
     "metadata": {},
     "output_type": "execute_result"
    }
   ],
   "source": [
    "df.shape"
   ]
  },
  {
   "cell_type": "code",
   "execution_count": 17,
   "metadata": {},
   "outputs": [
    {
     "data": {
      "text/html": [
       "<div>\n",
       "<style>\n",
       "    .dataframe thead tr:only-child th {\n",
       "        text-align: right;\n",
       "    }\n",
       "\n",
       "    .dataframe thead th {\n",
       "        text-align: left;\n",
       "    }\n",
       "\n",
       "    .dataframe tbody tr th {\n",
       "        vertical-align: top;\n",
       "    }\n",
       "</style>\n",
       "<table border=\"1\" class=\"dataframe\">\n",
       "  <thead>\n",
       "    <tr style=\"text-align: right;\">\n",
       "      <th></th>\n",
       "      <th>OTU100-unweighted_unifrac-PC1</th>\n",
       "      <th>OTU100-weighted_unifrac-PC1</th>\n",
       "      <th>OTU100-bray_curtis-PC1</th>\n",
       "      <th>OTU100-jaccard-PC1</th>\n",
       "      <th>OTU100-faith_pd-PC1</th>\n",
       "      <th>OTU100-observed_otus-PC1</th>\n",
       "    </tr>\n",
       "  </thead>\n",
       "  <tbody>\n",
       "    <tr>\n",
       "      <th>OTU100-unweighted_unifrac-PC1</th>\n",
       "      <td>1.000000</td>\n",
       "      <td>0.229811</td>\n",
       "      <td>0.610533</td>\n",
       "      <td>0.798971</td>\n",
       "      <td>0.816179</td>\n",
       "      <td>0.719729</td>\n",
       "    </tr>\n",
       "    <tr>\n",
       "      <th>OTU100-weighted_unifrac-PC1</th>\n",
       "      <td>0.229811</td>\n",
       "      <td>1.000000</td>\n",
       "      <td>0.759551</td>\n",
       "      <td>0.373302</td>\n",
       "      <td>-0.004245</td>\n",
       "      <td>-0.078872</td>\n",
       "    </tr>\n",
       "    <tr>\n",
       "      <th>OTU100-bray_curtis-PC1</th>\n",
       "      <td>0.610533</td>\n",
       "      <td>0.759551</td>\n",
       "      <td>1.000000</td>\n",
       "      <td>0.744785</td>\n",
       "      <td>0.326891</td>\n",
       "      <td>0.274133</td>\n",
       "    </tr>\n",
       "    <tr>\n",
       "      <th>OTU100-jaccard-PC1</th>\n",
       "      <td>0.798971</td>\n",
       "      <td>0.373302</td>\n",
       "      <td>0.744785</td>\n",
       "      <td>1.000000</td>\n",
       "      <td>0.506845</td>\n",
       "      <td>0.486456</td>\n",
       "    </tr>\n",
       "    <tr>\n",
       "      <th>OTU100-faith_pd-PC1</th>\n",
       "      <td>0.816179</td>\n",
       "      <td>-0.004245</td>\n",
       "      <td>0.326891</td>\n",
       "      <td>0.506845</td>\n",
       "      <td>1.000000</td>\n",
       "      <td>0.922474</td>\n",
       "    </tr>\n",
       "    <tr>\n",
       "      <th>OTU100-observed_otus-PC1</th>\n",
       "      <td>0.719729</td>\n",
       "      <td>-0.078872</td>\n",
       "      <td>0.274133</td>\n",
       "      <td>0.486456</td>\n",
       "      <td>0.922474</td>\n",
       "      <td>1.000000</td>\n",
       "    </tr>\n",
       "  </tbody>\n",
       "</table>\n",
       "</div>"
      ],
      "text/plain": [
       "                               OTU100-unweighted_unifrac-PC1  \\\n",
       "OTU100-unweighted_unifrac-PC1                       1.000000   \n",
       "OTU100-weighted_unifrac-PC1                         0.229811   \n",
       "OTU100-bray_curtis-PC1                              0.610533   \n",
       "OTU100-jaccard-PC1                                  0.798971   \n",
       "OTU100-faith_pd-PC1                                 0.816179   \n",
       "OTU100-observed_otus-PC1                            0.719729   \n",
       "\n",
       "                               OTU100-weighted_unifrac-PC1  \\\n",
       "OTU100-unweighted_unifrac-PC1                     0.229811   \n",
       "OTU100-weighted_unifrac-PC1                       1.000000   \n",
       "OTU100-bray_curtis-PC1                            0.759551   \n",
       "OTU100-jaccard-PC1                                0.373302   \n",
       "OTU100-faith_pd-PC1                              -0.004245   \n",
       "OTU100-observed_otus-PC1                         -0.078872   \n",
       "\n",
       "                               OTU100-bray_curtis-PC1  OTU100-jaccard-PC1  \\\n",
       "OTU100-unweighted_unifrac-PC1                0.610533            0.798971   \n",
       "OTU100-weighted_unifrac-PC1                  0.759551            0.373302   \n",
       "OTU100-bray_curtis-PC1                       1.000000            0.744785   \n",
       "OTU100-jaccard-PC1                           0.744785            1.000000   \n",
       "OTU100-faith_pd-PC1                          0.326891            0.506845   \n",
       "OTU100-observed_otus-PC1                     0.274133            0.486456   \n",
       "\n",
       "                               OTU100-faith_pd-PC1  OTU100-observed_otus-PC1  \n",
       "OTU100-unweighted_unifrac-PC1             0.816179                  0.719729  \n",
       "OTU100-weighted_unifrac-PC1              -0.004245                 -0.078872  \n",
       "OTU100-bray_curtis-PC1                    0.326891                  0.274133  \n",
       "OTU100-jaccard-PC1                        0.506845                  0.486456  \n",
       "OTU100-faith_pd-PC1                       1.000000                  0.922474  \n",
       "OTU100-observed_otus-PC1                  0.922474                  1.000000  "
      ]
     },
     "execution_count": 17,
     "metadata": {},
     "output_type": "execute_result"
    }
   ],
   "source": [
    "df.corr()"
   ]
  },
  {
   "cell_type": "code",
   "execution_count": null,
   "metadata": {
    "collapsed": true
   },
   "outputs": [],
   "source": []
  }
 ],
 "metadata": {
  "kernelspec": {
   "display_name": "Python 3",
   "language": "python",
   "name": "python3"
  },
  "language_info": {
   "codemirror_mode": {
    "name": "ipython",
    "version": 3
   },
   "file_extension": ".py",
   "mimetype": "text/x-python",
   "name": "python",
   "nbconvert_exporter": "python",
   "pygments_lexer": "ipython3",
   "version": "3.5.5"
  }
 },
 "nbformat": 4,
 "nbformat_minor": 2
}
