{
 "cells": [
  {
   "cell_type": "code",
   "execution_count": 9,
   "metadata": {},
   "outputs": [],
   "source": [
    "import os\n",
    "import os.path\n",
    "import itertools\n",
    "\n",
    "import pandas as pd\n",
    "import scipy.stats\n",
    "import numpy as np\n",
    "\n",
    "import qiime2\n",
    "import qiime2.plugins.feature_table"
   ]
  },
  {
   "cell_type": "code",
   "execution_count": null,
   "metadata": {},
   "outputs": [],
   "source": [
    "md = qiime2.Metadata.load('../sample-metadata-temp.tsv')"
   ]
  },
  {
   "cell_type": "code",
   "execution_count": 11,
   "metadata": {},
   "outputs": [],
   "source": [
    "treatments = ['UDCA', 'placebo'] # treatmentgroup\n",
    "visits = ['pre', 'post'] # visit\n",
    "\n",
    "# number of samples a feature must be observed in to be included in these analyses\n",
    "min_samples_fraction = 0.33\n",
    "\n",
    "cwd = os.getcwd()"
   ]
  },
  {
   "cell_type": "code",
   "execution_count": 5,
   "metadata": {},
   "outputs": [
    {
     "data": {
      "text/plain": [
       "ResultMetadata(uuid='455f7355-247e-4d4d-b506-2b986201c4c1', type='FeatureTable[Frequency]', format='BIOMV210DirFmt')"
      ]
     },
     "execution_count": 5,
     "metadata": {},
     "output_type": "execute_result"
    }
   ],
   "source": [
    "qiime2.Artifact.peek('../data/table.qza')"
   ]
  },
  {
   "cell_type": "code",
   "execution_count": 4,
   "metadata": {},
   "outputs": [],
   "source": [
    "ft = qiime2.Artifact.load('../data/table.qza')\n",
    "ft = qiime2.plugins.feature_table.actions.filter_samples(ft, metadata=md, where=\"IncludedIn2017Analysis='Yes'\").filtered_table\n",
    "min_samples = int(ft.view(pd.DataFrame).shape[0] * min_samples_fraction)\n",
    "ft = qiime2.plugins.feature_table.actions.filter_features(ft, min_samples=min_samples).filtered_table"
   ]
  },
  {
   "cell_type": "code",
   "execution_count": 5,
   "metadata": {},
   "outputs": [
    {
     "name": "stderr",
     "output_type": "stream",
     "text": [
      "/Users/gregcaporaso/miniconda3/envs/qiime2-2018.6/lib/python3.5/site-packages/matplotlib/axes/_axes.py:6462: UserWarning: The 'normed' kwarg is deprecated, and has been replaced by the 'density' kwarg.\n",
      "  warnings.warn(\"The 'normed' kwarg is deprecated, and has been \"\n",
      "/Users/gregcaporaso/miniconda3/envs/qiime2-2018.6/lib/python3.5/site-packages/matplotlib/axes/_axes.py:6462: UserWarning: The 'normed' kwarg is deprecated, and has been replaced by the 'density' kwarg.\n",
      "  warnings.warn(\"The 'normed' kwarg is deprecated, and has been \"\n"
     ]
    }
   ],
   "source": [
    "ft_summary = qiime2.plugins.feature_table.actions.summarize(ft, sample_metadata=md).visualization"
   ]
  },
  {
   "cell_type": "code",
   "execution_count": 6,
   "metadata": {},
   "outputs": [
    {
     "data": {
      "text/html": [
       "<div><img onload=\"(function(div, url){\n",
       "if (typeof require !== 'undefined') {\n",
       "    var baseURL = require.toUrl('').split('/').slice(0, -2).join('/');\n",
       "} else {\n",
       "    var baseURL = JSON.parse(\n",
       "        document.getElementById('jupyter-config-data').innerHTML\n",
       "    ).baseUrl.slice(0, -1);\n",
       "}\n",
       "url = baseURL + url;\n",
       "fetch(url).then(function(res) {\n",
       "    if (res.status === 404) {\n",
       "        div.innerHTML = 'Install QIIME 2 Jupyter extension with:<br />' +\n",
       "                        '<code>jupyter serverextension enable --py qiime2' +\n",
       "                        ' --sys-prefix</code><br />then restart your server.' +\n",
       "                        '<br /><br />(Interactive output not available on ' +\n",
       "                        'static notebook viewer services like nbviewer.)';\n",
       "    } else if (res.status === 409) {\n",
       "        div.innerHTML = 'Visualization no longer in scope. Re-run this cell' +\n",
       "                        ' to see the visualization.';\n",
       "    } else if (res.ok) {\n",
       "        url = res.url;\n",
       "        div.innerHTML = '<iframe src=\\'' + url + '\\' style=\\'' +\n",
       "                        'width: 100%; height: 700px; border: 0;\\'>' +\n",
       "                        '</iframe><hr />Open in a: <a href=\\'' + url + '\\'' +\n",
       "                        ' target=\\'_blank\\'>new window</a>'\n",
       "    } else {\n",
       "        div.innerHTML = 'Something has gone wrong. Check notebook server for' +\n",
       "                        ' errors.';\n",
       "    }\n",
       "});\n",
       "})(this.parentElement, '/qiime2/redirect?location=/var/folders/b6/g3p2lswj2153q21x12mjlfwh0000gn/T/qiime2-archive-ct7wh9_0')\" src=\"data:image/gif;base64,R0lGODlhAQABAIAAAP///wAAACH5BAEAAAAALAAAAAABAAEAAAICRAEAOw==\" /></div>"
      ],
      "text/plain": [
       "<visualization: Visualization uuid: c83239f0-aa5b-498f-83ea-33d3ec9df3a7>"
      ]
     },
     "execution_count": 6,
     "metadata": {},
     "output_type": "execute_result"
    }
   ],
   "source": [
    "ft_summary"
   ]
  },
  {
   "cell_type": "code",
   "execution_count": 7,
   "metadata": {},
   "outputs": [],
   "source": [
    "# for this analysis we need to keep all samples, so even sampling depth is set to the minimum sample frequency. \n",
    "# Samples with extremely low total frequencies have already been filtered from this table (see the \n",
    "# IncludedIn2017Analysis metadata category).\n",
    "even_sampling_depth = int(ft.view(pd.DataFrame).sum(axis=1).min())"
   ]
  },
  {
   "cell_type": "code",
   "execution_count": 8,
   "metadata": {},
   "outputs": [],
   "source": [
    "# Since this step is non-deterministic, I comment it out so it can't accidentally be re-run. \n",
    "# ft_rare = qiime2.plugins.feature_table.actions.rarefy(ft, even_sampling_depth).rarefied_table"
   ]
  },
  {
   "cell_type": "code",
   "execution_count": 9,
   "metadata": {},
   "outputs": [
    {
     "name": "stdout",
     "output_type": "stream",
     "text": [
      "(802, 106)\n"
     ]
    }
   ],
   "source": [
    "print(ft_rare.view(pd.DataFrame).shape)"
   ]
  },
  {
   "cell_type": "markdown",
   "metadata": {},
   "source": [
    "Compute correlations with Spearman and Pearson, and generate commands to compute SparCC correlations. SparCC is Python 2.6 software, so needs to run in its own environment."
   ]
  },
  {
   "cell_type": "code",
   "execution_count": 106,
   "metadata": {},
   "outputs": [
    {
     "name": "stdout",
     "output_type": "stream",
     "text": [
      "python /Users/gregcaporaso/code/crc-udca1/network-analysis/run-sparcc.py  \"/Users/gregcaporaso/Google Drive/data-analysis/2017.06-udca-manuscript-analyses/network-analysis/UDCA-pre/sparcc-table.tsv\" 1000 \"/Users/gregcaporaso/Google Drive/data-analysis/2017.06-udca-manuscript-analyses/network-analysis/UDCA-pre/sparcc\" && python /Users/gregcaporaso/code/crc-udca1/network-analysis/run-sparcc.py  \"/Users/gregcaporaso/Google Drive/data-analysis/2017.06-udca-manuscript-analyses/network-analysis/UDCA-post/sparcc-table.tsv\" 1000 \"/Users/gregcaporaso/Google Drive/data-analysis/2017.06-udca-manuscript-analyses/network-analysis/UDCA-post/sparcc\" && python /Users/gregcaporaso/code/crc-udca1/network-analysis/run-sparcc.py  \"/Users/gregcaporaso/Google Drive/data-analysis/2017.06-udca-manuscript-analyses/network-analysis/placebo-pre/sparcc-table.tsv\" 1000 \"/Users/gregcaporaso/Google Drive/data-analysis/2017.06-udca-manuscript-analyses/network-analysis/placebo-pre/sparcc\" && python /Users/gregcaporaso/code/crc-udca1/network-analysis/run-sparcc.py  \"/Users/gregcaporaso/Google Drive/data-analysis/2017.06-udca-manuscript-analyses/network-analysis/placebo-post/sparcc-table.tsv\" 1000 \"/Users/gregcaporaso/Google Drive/data-analysis/2017.06-udca-manuscript-analyses/network-analysis/placebo-post/sparcc\"\n"
     ]
    }
   ],
   "source": [
    "sparcc_command_template = (\n",
    "        \"python /Users/gregcaporaso/code/crc-udca1/network-analysis/run-sparcc.py \"\n",
    "        \" \\\"%s\\\" 1000 \\\"%s\\\"\")\n",
    "\n",
    "sparcc_cmds = []\n",
    "\n",
    "for t, v in itertools.product(treatments, visits):\n",
    "    output_dir = os.path.join(cwd, '%s-%s' % (t, v))\n",
    "    # SparCC takes a long time to run, so this should fail if the \n",
    "    # output directory already exists so those results aren't overwritten.\n",
    "    os.makedirs(output_dir, exist_ok=False)\n",
    "    temp_ft = qiime2.plugins.feature_table.actions.filter_samples(ft_rare, \n",
    "                                                                  metadata=md, \n",
    "                                                                  where=\"treatmentgroup='%s' AND visit='%s'\" % (t, v)).filtered_table\n",
    "    temp_ft.save(os.path.join(output_dir, 'table.qza'))\n",
    "    \n",
    "    df = temp_ft.view(pd.DataFrame)\n",
    "    table_fn = \"sparcc-table.tsv\"\n",
    "    table_fp = os.path.join(output_dir, table_fn)\n",
    "    sparcc_output_dn = \"sparcc\"\n",
    "    sparcc_output_dp = os.path.join(output_dir, sparcc_output_dn)\n",
    "    \n",
    "    df.T.to_csv(table_fp, sep='\\t', index_label='OTU_ID')\n",
    "    sparc_cmd = sparcc_command_template % (table_fp, sparcc_output_dp)\n",
    "    sparcc_cmds.append(sparc_cmd)\n",
    "    \n",
    "    spearman_rho, spearman_p = scipy.stats.spearmanr(df)\n",
    "    pd.DataFrame(spearman_rho, index=df.columns, columns=df.columns).to_csv(\n",
    "            os.path.join(output_dir, \"spearman_rho.tsv\"), sep='\\t', index_label='OTU_ID')\n",
    "    pd.DataFrame(spearman_p, index=df.columns, columns=df.columns).to_csv(\n",
    "            os.path.join(output_dir, \"spearman_p.tsv\"), sep='\\t', index_label='OTU_ID')\n",
    "    \n",
    "    # scipy.stats.pearsonr has a different interface than scipy.stats.spearmanr :(\n",
    "    pearson_r = []\n",
    "    pearson_p = []\n",
    "    for _, r1 in df.T.iterrows():\n",
    "        pearson_r_row = []\n",
    "        pearson_p_row = []\n",
    "        for _, r2 in df.T.iterrows():\n",
    "            r, p = scipy.stats.pearsonr(r1, r2)\n",
    "            pearson_r_row.append(r)\n",
    "            pearson_p_row.append(p)\n",
    "        pearson_r.append(pearson_r_row)\n",
    "        pearson_p.append(pearson_p_row)\n",
    "    pd.DataFrame(pearson_r, index=df.columns, columns=df.columns).to_csv(\n",
    "            os.path.join(output_dir, \"pearson_r.tsv\"), sep='\\t', index_label='OTU_ID')\n",
    "    pd.DataFrame(pearson_p, index=df.columns, columns=df.columns).to_csv(\n",
    "            os.path.join(output_dir, \"pearson_p.tsv\"), sep='\\t', index_label='OTU_ID')\n",
    "\n",
    "print(' && '.join(sparcc_cmds))\n"
   ]
  },
  {
   "cell_type": "code",
   "execution_count": 12,
   "metadata": {},
   "outputs": [],
   "source": [
    "alphas = [0.001, 0.01, 0.05]\n",
    "summary = []\n",
    "summary_columns = ['treatmentgroup', 'visit', 'alpha', 'Spearman significant', 'Pearson significant', 'SparCC significant', \n",
    "                   'Ensemble significant', 'Same sign', 'Reported interactions']\n",
    "\n",
    "for alpha in alphas:\n",
    "    for t, v in itertools.product(treatments, visits):\n",
    "        row_summary = [t, v, alpha]\n",
    "        data_dir = os.path.join(cwd, '%s-%s' % (t, v))\n",
    "\n",
    "        spearman_rho_df = pd.read_csv(os.path.join(data_dir, \"spearman_rho.tsv\"), sep='\\t').set_index('OTU_ID')\n",
    "        spearman_p_df = pd.read_csv(os.path.join(data_dir, \"spearman_p.tsv\"), sep='\\t').set_index('OTU_ID')\n",
    "        row_summary.append(np.count_nonzero(spearman_p_df <= alpha))\n",
    "\n",
    "        pearson_r_df = pd.read_csv(os.path.join(data_dir, \"pearson_r.tsv\"), sep='\\t').set_index('OTU_ID')\n",
    "        pearson_p_df = pd.read_csv(os.path.join(data_dir, \"pearson_p.tsv\"), sep='\\t').set_index('OTU_ID')\n",
    "        row_summary.append(np.count_nonzero(pearson_p_df <= alpha))\n",
    "\n",
    "        sparcc_r_df = pd.read_csv(os.path.join(data_dir, 'sparcc', 'corr.out'), sep='\\t').set_index('OTU_ID')\n",
    "        sparcc_p_df = pd.read_csv(os.path.join(data_dir, 'sparcc', 'p-value.out'), sep='\\t').set_index('OTU_ID')\n",
    "        row_summary.append(np.count_nonzero(sparcc_p_df <= alpha))\n",
    "\n",
    "        significance_df = (pearson_p_df <= alpha) & (spearman_p_df <= alpha) & (sparcc_p_df <= alpha)\n",
    "        same_sign_df = (np.sign(pearson_r_df) == np.sign(spearman_rho_df)) == np.sign(sparcc_r_df)\n",
    "        report_interaction_df = significance_df & same_sign_df\n",
    "\n",
    "        row_summary.append(np.count_nonzero(significance_df))\n",
    "        row_summary.append(np.count_nonzero(same_sign_df))\n",
    "        row_summary.append(np.count_nonzero(report_interaction_df))\n",
    "\n",
    "        significance_df.to_csv(os.path.join(data_dir, 'ensemble-significance-%f.tsv' % alpha),\n",
    "                                  sep='\\t', index_label='OTU_ID')\n",
    "        same_sign_df.to_csv(os.path.join(data_dir, 'ensemble-same-sign.tsv'),\n",
    "                                  sep='\\t', index_label='OTU_ID')\n",
    "        report_interaction_df.to_csv(os.path.join(data_dir, 'report-interaction-%f.tsv' % alpha),\n",
    "                                  sep='\\t', index_label='OTU_ID')\n",
    "        summary.append(row_summary)\n",
    "\n",
    "summary_df = pd.DataFrame(summary, columns=summary_columns)"
   ]
  },
  {
   "cell_type": "code",
   "execution_count": 13,
   "metadata": {},
   "outputs": [
    {
     "data": {
      "text/html": [
       "<div>\n",
       "<style scoped>\n",
       "    .dataframe tbody tr th:only-of-type {\n",
       "        vertical-align: middle;\n",
       "    }\n",
       "\n",
       "    .dataframe tbody tr th {\n",
       "        vertical-align: top;\n",
       "    }\n",
       "\n",
       "    .dataframe thead th {\n",
       "        text-align: right;\n",
       "    }\n",
       "</style>\n",
       "<table border=\"1\" class=\"dataframe\">\n",
       "  <thead>\n",
       "    <tr style=\"text-align: right;\">\n",
       "      <th></th>\n",
       "      <th>treatmentgroup</th>\n",
       "      <th>visit</th>\n",
       "      <th>alpha</th>\n",
       "      <th>Spearman significant</th>\n",
       "      <th>Pearson significant</th>\n",
       "      <th>SparCC significant</th>\n",
       "      <th>Ensemble significant</th>\n",
       "      <th>Same sign</th>\n",
       "      <th>Reported interactions</th>\n",
       "    </tr>\n",
       "  </thead>\n",
       "  <tbody>\n",
       "    <tr>\n",
       "      <th>0</th>\n",
       "      <td>UDCA</td>\n",
       "      <td>pre</td>\n",
       "      <td>0.001</td>\n",
       "      <td>1122</td>\n",
       "      <td>612</td>\n",
       "      <td>966</td>\n",
       "      <td>176</td>\n",
       "      <td>3792</td>\n",
       "      <td>174</td>\n",
       "    </tr>\n",
       "    <tr>\n",
       "      <th>1</th>\n",
       "      <td>UDCA</td>\n",
       "      <td>post</td>\n",
       "      <td>0.001</td>\n",
       "      <td>1260</td>\n",
       "      <td>586</td>\n",
       "      <td>978</td>\n",
       "      <td>222</td>\n",
       "      <td>3908</td>\n",
       "      <td>210</td>\n",
       "    </tr>\n",
       "    <tr>\n",
       "      <th>2</th>\n",
       "      <td>placebo</td>\n",
       "      <td>pre</td>\n",
       "      <td>0.001</td>\n",
       "      <td>1112</td>\n",
       "      <td>634</td>\n",
       "      <td>850</td>\n",
       "      <td>200</td>\n",
       "      <td>3794</td>\n",
       "      <td>192</td>\n",
       "    </tr>\n",
       "    <tr>\n",
       "      <th>3</th>\n",
       "      <td>placebo</td>\n",
       "      <td>post</td>\n",
       "      <td>0.001</td>\n",
       "      <td>884</td>\n",
       "      <td>544</td>\n",
       "      <td>716</td>\n",
       "      <td>152</td>\n",
       "      <td>3950</td>\n",
       "      <td>148</td>\n",
       "    </tr>\n",
       "    <tr>\n",
       "      <th>4</th>\n",
       "      <td>UDCA</td>\n",
       "      <td>pre</td>\n",
       "      <td>0.010</td>\n",
       "      <td>2022</td>\n",
       "      <td>940</td>\n",
       "      <td>1552</td>\n",
       "      <td>344</td>\n",
       "      <td>3792</td>\n",
       "      <td>316</td>\n",
       "    </tr>\n",
       "    <tr>\n",
       "      <th>5</th>\n",
       "      <td>UDCA</td>\n",
       "      <td>post</td>\n",
       "      <td>0.010</td>\n",
       "      <td>2162</td>\n",
       "      <td>996</td>\n",
       "      <td>1652</td>\n",
       "      <td>434</td>\n",
       "      <td>3908</td>\n",
       "      <td>364</td>\n",
       "    </tr>\n",
       "    <tr>\n",
       "      <th>6</th>\n",
       "      <td>placebo</td>\n",
       "      <td>pre</td>\n",
       "      <td>0.010</td>\n",
       "      <td>1950</td>\n",
       "      <td>924</td>\n",
       "      <td>1506</td>\n",
       "      <td>372</td>\n",
       "      <td>3794</td>\n",
       "      <td>328</td>\n",
       "    </tr>\n",
       "    <tr>\n",
       "      <th>7</th>\n",
       "      <td>placebo</td>\n",
       "      <td>post</td>\n",
       "      <td>0.010</td>\n",
       "      <td>1708</td>\n",
       "      <td>920</td>\n",
       "      <td>1362</td>\n",
       "      <td>320</td>\n",
       "      <td>3950</td>\n",
       "      <td>278</td>\n",
       "    </tr>\n",
       "    <tr>\n",
       "      <th>8</th>\n",
       "      <td>UDCA</td>\n",
       "      <td>pre</td>\n",
       "      <td>0.050</td>\n",
       "      <td>3288</td>\n",
       "      <td>1552</td>\n",
       "      <td>2742</td>\n",
       "      <td>738</td>\n",
       "      <td>3792</td>\n",
       "      <td>572</td>\n",
       "    </tr>\n",
       "    <tr>\n",
       "      <th>9</th>\n",
       "      <td>UDCA</td>\n",
       "      <td>post</td>\n",
       "      <td>0.050</td>\n",
       "      <td>3422</td>\n",
       "      <td>1702</td>\n",
       "      <td>2756</td>\n",
       "      <td>878</td>\n",
       "      <td>3908</td>\n",
       "      <td>608</td>\n",
       "    </tr>\n",
       "    <tr>\n",
       "      <th>10</th>\n",
       "      <td>placebo</td>\n",
       "      <td>pre</td>\n",
       "      <td>0.050</td>\n",
       "      <td>3162</td>\n",
       "      <td>1506</td>\n",
       "      <td>2730</td>\n",
       "      <td>754</td>\n",
       "      <td>3794</td>\n",
       "      <td>566</td>\n",
       "    </tr>\n",
       "    <tr>\n",
       "      <th>11</th>\n",
       "      <td>placebo</td>\n",
       "      <td>post</td>\n",
       "      <td>0.050</td>\n",
       "      <td>2936</td>\n",
       "      <td>1580</td>\n",
       "      <td>2536</td>\n",
       "      <td>742</td>\n",
       "      <td>3950</td>\n",
       "      <td>546</td>\n",
       "    </tr>\n",
       "  </tbody>\n",
       "</table>\n",
       "</div>"
      ],
      "text/plain": [
       "   treatmentgroup visit  alpha  Spearman significant  Pearson significant  \\\n",
       "0            UDCA   pre  0.001                  1122                  612   \n",
       "1            UDCA  post  0.001                  1260                  586   \n",
       "2         placebo   pre  0.001                  1112                  634   \n",
       "3         placebo  post  0.001                   884                  544   \n",
       "4            UDCA   pre  0.010                  2022                  940   \n",
       "5            UDCA  post  0.010                  2162                  996   \n",
       "6         placebo   pre  0.010                  1950                  924   \n",
       "7         placebo  post  0.010                  1708                  920   \n",
       "8            UDCA   pre  0.050                  3288                 1552   \n",
       "9            UDCA  post  0.050                  3422                 1702   \n",
       "10        placebo   pre  0.050                  3162                 1506   \n",
       "11        placebo  post  0.050                  2936                 1580   \n",
       "\n",
       "    SparCC significant  Ensemble significant  Same sign  Reported interactions  \n",
       "0                  966                   176       3792                    174  \n",
       "1                  978                   222       3908                    210  \n",
       "2                  850                   200       3794                    192  \n",
       "3                  716                   152       3950                    148  \n",
       "4                 1552                   344       3792                    316  \n",
       "5                 1652                   434       3908                    364  \n",
       "6                 1506                   372       3794                    328  \n",
       "7                 1362                   320       3950                    278  \n",
       "8                 2742                   738       3792                    572  \n",
       "9                 2756                   878       3908                    608  \n",
       "10                2730                   754       3794                    566  \n",
       "11                2536                   742       3950                    546  "
      ]
     },
     "execution_count": 13,
     "metadata": {},
     "output_type": "execute_result"
    }
   ],
   "source": [
    "summary_df"
   ]
  },
  {
   "cell_type": "code",
   "execution_count": null,
   "metadata": {},
   "outputs": [],
   "source": []
  }
 ],
 "metadata": {
  "kernelspec": {
   "display_name": "Python 3",
   "language": "python",
   "name": "python3"
  },
  "language_info": {
   "codemirror_mode": {
    "name": "ipython",
    "version": 3
   },
   "file_extension": ".py",
   "mimetype": "text/x-python",
   "name": "python",
   "nbconvert_exporter": "python",
   "pygments_lexer": "ipython3",
   "version": "3.5.5"
  }
 },
 "nbformat": 4,
 "nbformat_minor": 2
}
