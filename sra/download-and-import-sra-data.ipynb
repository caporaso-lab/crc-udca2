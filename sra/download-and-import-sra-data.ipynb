{
 "cells": [
  {
   "cell_type": "markdown",
   "metadata": {},
   "source": [
    "# Loading single-end data from SRA into QIIME 2 2019.1. \n",
    "\n",
    "This example illustrates loading of the files obtained from SRA [BioProject PRJNA516932](https://www.ncbi.nlm.nih.gov/bioproject/516932). \n",
    "\n",
    "\n",
    "The two files that need to be obtained from SRA directly are the accession list (`SRR_Acc_List.txt`) and the sample metadata or \"run table\" (`SraRunTable.txt`). The sample metadata can be loaded with QIIME 2 after the `Sample name` column is moved to be the first column, and renamed to be one of the allowed QIIME 2 sample id column names."
   ]
  },
  {
   "cell_type": "markdown",
   "metadata": {},
   "source": [
    "```bash\n",
    "$ conda create -n sra-tools -c bioconda sra-tools\n",
    "$ conda activate sra-tools\n",
    "\n",
    "$ head SRR_Acc_List.txt\n",
    "SRR8484238\n",
    "SRR8484239\n",
    "SRR8484240\n",
    "SRR8484241\n",
    "SRR8484242\n",
    "SRR8484243\n",
    "SRR8484244\n",
    "SRR8484245\n",
    "SRR8484246\n",
    "SRR8484247\n",
    "\n",
    "$ prefetch --option-file SRR_Acc_List.txt -O sra\n",
    "\n",
    "$ fastq-dump –split-files --gzip sra/*sra -O fastq\n",
    "\n",
    "```"
   ]
  },
  {
   "cell_type": "code",
   "execution_count": 10,
   "metadata": {},
   "outputs": [],
   "source": [
    "from qiime2 import Metadata\n",
    "md = Metadata.load('./SraRunTable.txt')\n",
    "f = open('fastq-manifest.csv', 'w')\n",
    "f.write('sample-id,absolute-filepath,direction\\n')\n",
    "for sample_id, base_filename in md.get_column('Run').to_series().items():\n",
    "    f.write('%s,$PWD/fastq/%s.fastq.gz,forward\\n' % (sample_id, base_filename))\n",
    "f.close()"
   ]
  },
  {
   "cell_type": "code",
   "execution_count": 11,
   "metadata": {},
   "outputs": [
    {
     "name": "stdout",
     "output_type": "stream",
     "text": [
      "sample-id,absolute-filepath,direction\r\n",
      "udca.trial.29TPOBOH855UL,$PWD/fastq/SRR8484238.fastq.gz,forward\r\n",
      "udca.trial.2S9ZE5I92VCMH,$PWD/fastq/SRR8484239.fastq.gz,forward\r\n",
      "udca.trial.6YUR40U7Y49B6,$PWD/fastq/SRR8484240.fastq.gz,forward\r\n",
      "udca.trial.3V55PNQITVUFE,$PWD/fastq/SRR8484241.fastq.gz,forward\r\n",
      "udca.trial.2WI4ZN13D48J0,$PWD/fastq/SRR8484242.fastq.gz,forward\r\n",
      "udca.trial.5O4AHMMLWBNCF,$PWD/fastq/SRR8484243.fastq.gz,forward\r\n",
      "udca.trial.VGV3YP7FM8RG,$PWD/fastq/SRR8484244.fastq.gz,forward\r\n",
      "udca.trial.VWVP688Q64JI,$PWD/fastq/SRR8484245.fastq.gz,forward\r\n",
      "udca.trial.2J11QU8XEKXCL,$PWD/fastq/SRR8484246.fastq.gz,forward\r\n"
     ]
    }
   ],
   "source": [
    "!head fastq-manifest.csv"
   ]
  },
  {
   "cell_type": "code",
   "execution_count": 17,
   "metadata": {},
   "outputs": [
    {
     "data": {
      "text/plain": [
       "'demux.qza'"
      ]
     },
     "execution_count": 17,
     "metadata": {},
     "output_type": "execute_result"
    }
   ],
   "source": [
    "from qiime2 import Artifact\n",
    "\n",
    "a = Artifact.import_data('SampleData[SequencesWithQuality]', 'fastq-manifest.csv', view_type='SingleEndFastqManifestPhred33')\n",
    "a.save('demux.qza')\n"
   ]
  },
  {
   "cell_type": "code",
   "execution_count": 18,
   "metadata": {},
   "outputs": [],
   "source": [
    "import qiime2.plugins.demux"
   ]
  },
  {
   "cell_type": "code",
   "execution_count": 23,
   "metadata": {},
   "outputs": [
    {
     "data": {
      "text/plain": [
       "'demux.qzv'"
      ]
     },
     "execution_count": 23,
     "metadata": {},
     "output_type": "execute_result"
    }
   ],
   "source": [
    "v = qiime2.plugins.demux.actions.summarize(a).visualization\n",
    "v.save('demux.qzv')"
   ]
  },
  {
   "cell_type": "code",
   "execution_count": null,
   "metadata": {},
   "outputs": [],
   "source": []
  }
 ],
 "metadata": {
  "kernelspec": {
   "display_name": "Python 3",
   "language": "python",
   "name": "python3"
  },
  "language_info": {
   "codemirror_mode": {
    "name": "ipython",
    "version": 3
   },
   "file_extension": ".py",
   "mimetype": "text/x-python",
   "name": "python",
   "nbconvert_exporter": "python",
   "pygments_lexer": "ipython3",
   "version": "3.6.5"
  }
 },
 "nbformat": 4,
 "nbformat_minor": 2
}
