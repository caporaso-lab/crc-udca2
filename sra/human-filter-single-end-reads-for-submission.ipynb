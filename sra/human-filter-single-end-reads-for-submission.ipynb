{
 "cells": [
  {
   "cell_type": "code",
   "execution_count": 1,
   "metadata": {},
   "outputs": [],
   "source": [
    "import glob\n",
    "import os.path\n",
    "import os\n",
    "import tempfile\n",
    "\n",
    "fps = glob.glob('fastq/*fastq.gz')\n",
    "output_dir = 'filtered-fastq'\n"
   ]
  },
  {
   "cell_type": "code",
   "execution_count": 2,
   "metadata": {},
   "outputs": [],
   "source": [
    "for fp in fps:\n",
    "    fn = os.path.split(fp)[1]\n",
    "    basename = fn.replace('.fastq.gz', '')\n",
    "    output_fp = os.path.join(output_dir, fn).replace('.gz', '')\n",
    "    with tempfile.NamedTemporaryFile() as sam_f:\n",
    "        sam_f_name = sam_f.name\n",
    "        !bowtie2 -p 1 -x /Users/gregcaporaso/reference-data/hg19/hg19 --very-sensitive -U $fp -S $sam_f_name 2> /dev/null\n",
    "        with tempfile.NamedTemporaryFile() as bam_f:\n",
    "            bam_f_name = bam_f.name\n",
    "            !samtools view -f 4 -F 256 -o $bam_f_name -b $sam_f_name 2> /dev/null\n",
    "            !bedtools bamtofastq -i $bam_f_name -fq $output_fp\n",
    "    !gzip -f $output_fp\n",
    "    \n",
    "    "
   ]
  },
  {
   "cell_type": "code",
   "execution_count": 5,
   "metadata": {},
   "outputs": [],
   "source": [
    "# this cell is just creating a log of how many reads are filtered per sample. \n",
    "# this is super-inefficient, but i decided i wanted to do this after running the above -\n",
    "# in a future workflow this will all happen in one step (e.g., determine how many and which\n",
    "# reads are filtered from the .sam file and log those so that a few can be confirmed)\n",
    "\n",
    "import skbio.io\n",
    "\n",
    "output_fp = 'human-filter.log'\n",
    "\n",
    "with open(output_fp, 'w') as log_fh:\n",
    "    log_fh.write('id\\tinput-reads\\toutput-reads\\tfiltered-reads\\n')\n",
    "    for input_fp in fps: \n",
    "        fn = os.path.split(input_fp)[1]\n",
    "        output_fp = os.path.join(output_dir, fn)\n",
    "        n_input_seqs = 0\n",
    "        for e in skbio.io.read(input_fp, format='fastq', variant='illumina1.8'):\n",
    "            n_input_seqs += 1\n",
    "        n_output_seqs = 0\n",
    "        for e in skbio.io.read(output_fp, format='fastq', variant='illumina1.8'):\n",
    "            n_output_seqs += 1\n",
    "        log_fh.write('%s\\t%d\\t%d\\t%d\\n' % (fn, n_input_seqs, n_output_seqs, n_input_seqs - n_output_seqs))\n",
    "        log_fh.flush()\n",
    "    \n",
    "    "
   ]
  },
  {
   "cell_type": "code",
   "execution_count": null,
   "metadata": {},
   "outputs": [],
   "source": []
  }
 ],
 "metadata": {
  "kernelspec": {
   "display_name": "Python 3",
   "language": "python",
   "name": "python3"
  },
  "language_info": {
   "codemirror_mode": {
    "name": "ipython",
    "version": 3
   },
   "file_extension": ".py",
   "mimetype": "text/x-python",
   "name": "python",
   "nbconvert_exporter": "python",
   "pygments_lexer": "ipython3",
   "version": "3.6.8"
  }
 },
 "nbformat": 4,
 "nbformat_minor": 2
}
